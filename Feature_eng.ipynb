{
 "cells": [
  {
   "cell_type": "markdown",
   "metadata": {},
   "source": [
    "Så først og fremmest få prio grid og UCDP merged og se hvad su så synes du mangler..."
   ]
  },
  {
   "cell_type": "code",
   "execution_count": 1,
   "metadata": {},
   "outputs": [],
   "source": [
    "import numpy as np\n",
    "from scipy import stats\n",
    "\n",
    "import pandas as pd\n",
    "import geopandas as gpd\n",
    "import matplotlib.pyplot as plt\n",
    "\n",
    "import seaborn as sns\n",
    "\n",
    "import math\n",
    "import time\n",
    "\n",
    "from shapely.geometry import Point\n",
    "\n",
    "full_script_time = time.time()"
   ]
  },
  {
   "cell_type": "markdown",
   "metadata": {},
   "source": [
    "Gelman siger (måske): divider dine continuerlige variabler med 2 std_d for at de kommer til at ligene dine katagoriske var mere.... (https://www.youtube.com/watch?v=Jb9eklfbDyg 16.30)"
   ]
  },
  {
   "cell_type": "code",
   "execution_count": 2,
   "metadata": {},
   "outputs": [],
   "source": [
    "def import_df():\n",
    "    \"\"\"Function for loading, handling and merging the data. Rigth now you don't use the prio gird thou..\"\"\"\n",
    "    t1 = time.time()\n",
    "    \n",
    "    # load data:\n",
    "    prio_grid = gpd.read_file(\"zip:///home/polichinel/Dropbox/KU/9.semester/friopgave/data/prio_grid/priogrid_cellshp.zip\")\n",
    "    prio_static = pd.read_csv(\"/home/polichinel/Dropbox/KU/9.semester/friopgave/data/prio_grid/static/PRIO-GRID Static Variables - 2018-08-21.csv\")\n",
    "    prio_yearly_interp = pd.read_csv(\"/home/polichinel/Dropbox/KU/9.semester/friopgave/data/prio_grid/yearly/PRIO_Yearly_interp.csv\")\n",
    "    prio_yearly = pd.read_csv(\"/home/polichinel/Dropbox/KU/9.semester/friopgave/data/prio_grid/yearly/PRIO-GRID Yearly Variables for 1946-2014 - 2018-08-21.csv\")\n",
    "    ucdp = pd.read_csv(\"/home/polichinel/Dropbox/KU/9.semester/friopgave/data/upsala/ged181.csv\")# the error is not importent as you do not use that feature \n",
    "    \n",
    "    ucdp =  ucdp[ucdp['gwnob'].isna()] # only conflicts NOT between to stats\n",
    "    \n",
    "    # Choosing (\"most\") relevant variables:\n",
    "    prio_grid_lean = prio_grid[['gid','geometry']]\n",
    "    prio_static_lean = prio_static[['gid','landarea','ttime_mean','mountains_mean','petroleum_s']]\n",
    "    prio_yearly_interp_lean = prio_yearly_interp[['gid','year','interp_pop_gpw_sum','interp_gcp_ppp','interp_urban_ih','interp_agri_ih','interp_forest_ih']]\n",
    "    prio_yearly_lean = prio_yearly[['gid','year','gwno','gwarea','bdist1','bdist3','capdist','excluded','petroleum_y','nlights_calib_mean']] #bdist 3 er minimere nans\n",
    "    ucdp_lean = ucdp[['priogrid_gid','country_id','region','year','best']]\n",
    "\n",
    "    \n",
    "    # Choosing relevant years: \n",
    "    prio_yearly_interp_lean_1990 = prio_yearly_interp_lean[(prio_yearly_interp_lean['year'] >= 1990) & (prio_yearly_interp_lean['year'] <= 2010)]\n",
    "    prio_yearly_lean_1990 = prio_yearly_lean[(prio_yearly_lean['year'] >= 1990) & (prio_yearly_lean['year'] <= 2010)]\n",
    "    ucdp_lean_1990 = ucdp_lean[(ucdp_lean['year'] >= 1990) & (ucdp_lean['year'] <= 2010)]\n",
    "    \n",
    "    # Aggregating yearly fatalities:\n",
    "    ucdp_lean_1990_year_agg = ucdp_lean_1990.groupby(by=['priogrid_gid','country_id','year']).sum().reset_index() # det her virker.tror jeg\n",
    "    ucdp_lean_1990_year_agg.rename(columns={'priogrid_gid':'gid'}, inplace=True)\n",
    "    ucdp_lean_1990_year_agg.rename(columns={'country_id':'gwno'}, inplace=True)\n",
    "    \n",
    "    \n",
    "    # Merging\n",
    "    prio_yearly_lean_1990_all = pd.merge(prio_yearly_interp_lean_1990, prio_yearly_lean_1990, on = ['gid','year'])\n",
    "\n",
    "    prio_static_grid = prio_grid_lean.merge(prio_static_lean, on='gid', how='inner')\n",
    "    prio_sy_grid = prio_static_grid.merge(prio_yearly_lean_1990_all, on = 'gid', how='inner')\n",
    "    prio_sy_ucdp_grid = prio_sy_grid.merge(ucdp_lean_1990_year_agg, on = ['gid','year','gwno'], how='left')\n",
    "\n",
    "    \n",
    "    # Filling in cells with non-fatalities.\n",
    "    prio_sy_ucdp_grid['best'].fillna(value=0, inplace = True)\n",
    "    prio_sy_ucdp_grid['log_best'] = np.log(prio_sy_ucdp_grid['best']+1)\n",
    "    \n",
    "    # Managing petolium:\n",
    "    prio_sy_ucdp_grid['petroleum_y'] = prio_sy_ucdp_grid.sort_values('year').groupby('gid')['petroleum_y'].fillna(method = 'ffill').copy() # fint\n",
    "    prio_sy_ucdp_grid['petroleum_y'].fillna(0, inplace = True)\n",
    "    prio_sy_ucdp_grid['petroleum_s'].fillna(0, inplace = True)\n",
    "    \n",
    "    prio_sy_ucdp_grid['petroleum_full'] = np.maximum(prio_sy_ucdp_grid['petroleum_y'],prio_sy_ucdp_grid['petroleum_s'])\n",
    "    \n",
    "    prio_sy_ucdp_grid.drop('petroleum_y', axis=1, inplace=True)\n",
    "    prio_sy_ucdp_grid.drop('petroleum_s', axis=1, inplace=True)\n",
    "                                                        \n",
    "    # Managing bdist1 \n",
    "    #prio_sy_ucdp_grid['bdist1'].fillna(np.median(prio_sy_ucdp_grid['bdist1']), inplace = True) # kunne være fedt bare at ordne det i modellen.\n",
    "    \n",
    "    df_done = prio_sy_ucdp_grid[prio_sy_ucdp_grid['gwno'].notna()] # removes 12 fucks.\n",
    "    \n",
    "    print('seconds it took load and handle data: ' + str(time.time()-t1))\n",
    "    return(df_done) # ucdp for dist. to conflict var.\n",
    "    \n",
    "    # Should you normelize the data... espec teh y 'best'"
   ]
  },
  {
   "cell_type": "code",
   "execution_count": 3,
   "metadata": {},
   "outputs": [],
   "source": [
    "def import_df_point():\n",
    "    \n",
    "    t1 = time.time()\n",
    "    ucdp = pd.read_csv(\"/home/polichinel/Dropbox/KU/9.semester/friopgave/data/upsala/ged181.csv\")# the error is not importent as you do not use that feature \n",
    "\n",
    "    ucdp =  ucdp[ucdp['gwnob'].isna()] # only conflicts NOT between to stats\n",
    "\n",
    "    ucdp_1990 = ucdp[(ucdp['year'] >= 1990) & (ucdp['year'] <= 2010)]\n",
    "\n",
    "    ucdp_1990_year_agg = ucdp_1990.groupby(by=['priogrid_gid','country_id','year', 'latitude', 'longitude']).sum().reset_index() # det her virker.tror jeg\n",
    "    ucdp_1990_year_agg.rename(columns={'priogrid_gid':'gid'}, inplace=True)\n",
    "    ucdp_1990_year_agg.rename(columns={'country_id':'gwno'}, inplace=True)\n",
    "\n",
    "    ucdp_lean_1990_year_agg = ucdp_1990_year_agg[['gid','gwno','year','best']]\n",
    "\n",
    "    ucdp_1990_year_agg['Coordinates'] = list(zip(ucdp_1990_year_agg.longitude, ucdp_1990_year_agg.latitude))\n",
    "    ucdp_1990_year_agg['Coordinates'] = ucdp_1990_year_agg['Coordinates'].apply(Point)\n",
    "\n",
    "    gdf_point = gpd.GeoDataFrame(ucdp_1990_year_agg, geometry='Coordinates')\n",
    "\n",
    "    print('seconds it took load and handle data: ' + str(time.time()-t1))\n",
    "    return(gdf_point) # ucdp for dist. to conflict var.\n",
    "\n",
    "    "
   ]
  },
  {
   "cell_type": "code",
   "execution_count": 4,
   "metadata": {},
   "outputs": [
    {
     "name": "stderr",
     "output_type": "stream",
     "text": [
      "/home/polichinel/anaconda3/lib/python3.6/site-packages/IPython/core/interactiveshell.py:2802: DtypeWarning: Columns (9) have mixed types. Specify dtype option on import or set low_memory=False.\n",
      "  if self.run_code(code, result):\n"
     ]
    },
    {
     "name": "stdout",
     "output_type": "stream",
     "text": [
      "seconds it took load and handle data: 114.36892414093018\n"
     ]
    },
    {
     "name": "stderr",
     "output_type": "stream",
     "text": [
      "/home/polichinel/anaconda3/lib/python3.6/site-packages/IPython/core/interactiveshell.py:2802: DtypeWarning: Columns (9) have mixed types. Specify dtype option on import or set low_memory=False.\n",
      "  if self.run_code(code, result):\n"
     ]
    },
    {
     "name": "stdout",
     "output_type": "stream",
     "text": [
      "seconds it took load and handle data: 4.044646263122559\n"
     ]
    },
    {
     "data": {
      "text/plain": [
       "(1361166, 21)"
      ]
     },
     "execution_count": 4,
     "metadata": {},
     "output_type": "execute_result"
    }
   ],
   "source": [
    "df = import_df() # df_pint = ucdp for dist. to conflict var.\n",
    "df_point = import_df_point()\n",
    "\n",
    "# Hvad bruger du den til?\n",
    "feature_list = ['landarea', 'ttime_mean', 'mountains_mean',\n",
    "       'petroleum_full', 'year', 'interp_pop_gpw_sum', 'interp_gcp_ppp',\n",
    "       'interp_urban_ih', 'interp_agri_ih', 'interp_forest_ih', 'gwno',\n",
    "       'gwarea','bdist1', 'bdist3', 'capdist', 'excluded', 'nlights_calib_mean', 'best']\n",
    "\n",
    "df.shape\n"
   ]
  },
  {
   "cell_type": "code",
   "execution_count": 5,
   "metadata": {},
   "outputs": [
    {
     "data": {
      "text/plain": [
       "(1361166, 21)"
      ]
     },
     "execution_count": 5,
     "metadata": {},
     "output_type": "execute_result"
    }
   ],
   "source": [
    "df = df[df['gwno'].notna()] # removes 12 fucks.\n",
    "df.shape"
   ]
  },
  {
   "cell_type": "code",
   "execution_count": 6,
   "metadata": {},
   "outputs": [],
   "source": [
    "def get_na(df=df):\n",
    "\n",
    "    na_list = []\n",
    "    \n",
    "    for i in df.columns:\n",
    "        proporiton_na = df[i].isna().sum()/len(df[i])\n",
    "        print(i + \" that is NA : \" + str(round(proporiton_na*100, 3)) + '%')\n",
    "        \n",
    "        \n",
    "        \n",
    "        if proporiton_na > 0.01:\n",
    "            na_list.append(i)\n",
    "        \n",
    "    return(na_list)"
   ]
  },
  {
   "cell_type": "code",
   "execution_count": 7,
   "metadata": {},
   "outputs": [
    {
     "name": "stdout",
     "output_type": "stream",
     "text": [
      "gid that is NA : 0.0%\n",
      "geometry that is NA : 0.0%\n",
      "landarea that is NA : 0.0%\n",
      "ttime_mean that is NA : 0.156%\n",
      "mountains_mean that is NA : 0.0%\n",
      "year that is NA : 0.0%\n",
      "interp_pop_gpw_sum that is NA : 0.0%\n",
      "interp_gcp_ppp that is NA : 2.057%\n",
      "interp_urban_ih that is NA : 0.0%\n",
      "interp_agri_ih that is NA : 0.0%\n",
      "interp_forest_ih that is NA : 0.0%\n",
      "gwno that is NA : 0.0%\n",
      "gwarea that is NA : 0.0%\n",
      "bdist1 that is NA : 0.0%\n",
      "bdist3 that is NA : 0.0%\n",
      "capdist that is NA : 0.0%\n",
      "excluded that is NA : 0.0%\n",
      "nlights_calib_mean that is NA : 0.0%\n",
      "best that is NA : 0.0%\n",
      "log_best that is NA : 0.0%\n",
      "petroleum_full that is NA : 0.0%\n"
     ]
    }
   ],
   "source": [
    "def fill_missing_1(df=df):\n",
    "    \n",
    "    # First back-extrapolating light values from 1992 to 91 and 90.\n",
    "    \n",
    "    Light_years = [1990, 1991]# full missing years for 'nlights_calib_mean'.\n",
    "    missing_list = ['interp_urban_ih', 'interp_agri_ih', 'interp_forest_ih','mountains_mean','nlights_calib_mean']\n",
    "    \n",
    "    for y in Light_years:\n",
    "        df.loc[df['year'] == y, 'nlights_calib_mean'] = df[df['year'] == 1992]['nlights_calib_mean'].values\n",
    "\n",
    "\n",
    "    for f in missing_list:\n",
    "        df.loc[df[f] < 0 , f] = 0 # due to rounding errors in the interpolation, few values a negative (still practical zero.)\n",
    "    \n",
    "        df[f].fillna(df[f].min(), inplace = True) # minimun in this case being zero.\n",
    "\n",
    "fill_missing_1()\n",
    "\n",
    "def fill_missing_2(df=df):\n",
    "    \n",
    "    # first bdist1:\n",
    "    df['bdist1'].fillna(df['bdist1'].median(), inplace = True) # median and not mean, since it is is skewed - ofc should be corss-validated. \n",
    "    \n",
    "    # Then, correct the interpolation:\n",
    "    df.loc[df['interp_gcp_ppp'] < 0 , 'interp_gcp_ppp'] = 0 # due to rounding errors in the interpolation, few values a negative (still practical zero.)\n",
    "    \n",
    "    # fill forward:\n",
    "    df['interp_gcp_ppp'] = df.sort_values('year').groupby('gid')['interp_gcp_ppp'].fillna(method = 'ffill')\n",
    "    df['interp_gcp_ppp'] = df.sort_values('year').groupby('gid')['interp_gcp_ppp'].fillna(method = 'bfill')\n",
    "\n",
    "    \n",
    "    # Excluded = min\n",
    "    df['excluded'].fillna(df['excluded'].min(), inplace = True) # tjek lige i codebogen om det her er khoser\n",
    "    \n",
    "    \n",
    "fill_missing_2()\n",
    "na_list = get_na()"
   ]
  },
  {
   "cell_type": "markdown",
   "metadata": {},
   "source": [
    "Some justifications...\n",
    "\n",
    "Of course, this hold 'missing vaules' inter/extrapolation ecxercise should under all surcomstances be performet under cross validation and would no doubt benifit from being traeated as a predictive problem in it self. I will show how to incoporate the laste few missing values in the model, and if time permits go back and test different approches. For now, this will serve, and if I do not find the time to go back this will be a challenge for the next project. \n",
    "\n",
    "\n",
    "**Så hvad nu?**"
   ]
  },
  {
   "cell_type": "markdown",
   "metadata": {},
   "source": [
    "# C-shape dict (cool, but why?)"
   ]
  },
  {
   "cell_type": "code",
   "execution_count": 8,
   "metadata": {},
   "outputs": [],
   "source": [
    "def my_import_2():\n",
    "    cshapes = gpd.read_file(\"zip:////home/polichinel/Dropbox/KU/9.semester/friopgave/data/CShapes/cshapes_0.6.zip\")\n",
    "    cshapes.rename(columns={'CNTRY_NAME':'country_name','COWCODE':'gwno'}, inplace=True)\n",
    "    cshapes_lean = cshapes[['country_name','gwno']]\n",
    "\n",
    "    return(cshapes_lean)\n",
    "\n",
    "cshapes_lean = my_import_2()\n",
    "    \n",
    "def country_lookup(gwno):\n",
    "    if len(cshapes_lean[cshapes_lean['gwno'] == gwno]['country_name']) != 0:\n",
    "        country_name = cshapes_lean[cshapes_lean['gwno'] == gwno]['country_name'].iloc[0]\n",
    "        print(country_name)\n",
    "    else:\n",
    "        print('unknown gwno')\n",
    "        \n",
    "        \n",
    "def country_lookup_out(gwno):\n",
    "    \n",
    "    c_list = []\n",
    "    \n",
    "    if len(cshapes_lean[cshapes_lean['gwno'] == gwno]['country_name']) != 0:\n",
    "        country_name = cshapes_lean[cshapes_lean['gwno'] == gwno]['country_name'].iloc[0]\n",
    "        c_list.append(country_name)\n",
    "    else:\n",
    "        c_list.append('unknown gwno')\n",
    "        \n",
    "    return(c_list)"
   ]
  },
  {
   "cell_type": "code",
   "execution_count": 9,
   "metadata": {},
   "outputs": [
    {
     "name": "stdout",
     "output_type": "stream",
     "text": [
      "unknown gwno\n"
     ]
    }
   ],
   "source": [
    "country_lookup(1)"
   ]
  },
  {
   "cell_type": "code",
   "execution_count": 10,
   "metadata": {},
   "outputs": [
    {
     "name": "stdout",
     "output_type": "stream",
     "text": [
      "United States\n"
     ]
    }
   ],
   "source": [
    "country_lookup(2)"
   ]
  },
  {
   "cell_type": "markdown",
   "metadata": {},
   "source": [
    "Kan du få lande sørelse in her? du kan self også bare aggregere area på gwno og year..."
   ]
  },
  {
   "cell_type": "markdown",
   "metadata": {},
   "source": [
    "Så det ser fint ud neden for, men du skal stadigt havde styr på olie og dine imputationer. Lige nu tror jeg du sætter alt til nul.. Det går ikke.. Det kan du gøre med best. Og måske et par andre, men det skal være gennemtænkt."
   ]
  },
  {
   "cell_type": "markdown",
   "metadata": {},
   "source": [
    "# Some light feature eginering:"
   ]
  },
  {
   "cell_type": "markdown",
   "metadata": {},
   "source": [
    "### the y's:"
   ]
  },
  {
   "cell_type": "code",
   "execution_count": 12,
   "metadata": {},
   "outputs": [],
   "source": [
    "# Creating the binary target:\n",
    "df['binary_best'] = pd.Series(df['best'] > 0).astype('int') \n",
    "\n",
    "# Leading the binary target:\n",
    "df['lead_binary_best'] = df.sort_values('year').groupby(['gid'])['binary_best'].shift(-1)\n",
    "\n",
    "# Lead best\n",
    "df['lead_best'] = df.sort_values('year').groupby(['gid'])['best'].shift(-1)\n",
    "\n",
    "# Past fatalities\n",
    "df['past_fatalities'] = df.sort_values('year').groupby(['gid'])['best'].cumsum()\n",
    "\n",
    "#df['log_past_fatalities'] = np.log(df['past_fatalities'] + 1) # ordner du senere!\n",
    "\n",
    "# Past conflicts\n",
    "df['past_conflicts'] = df.sort_values('year').groupby(['gid'])['binary_best'].cumsum()\n",
    "\n",
    "# Years since peace/conflict is handled defferently... later on\n",
    "\n",
    "# Fatilities/conflict in country\n",
    "\n",
    "df['fatilities_country_year'] = df.groupby(['gwno','year'])['best'].transform(np.sum)\n",
    "df['conflict_country_year'] = np.array(df['fatilities_country_year'] > 0).astype(int)"
   ]
  },
  {
   "cell_type": "markdown",
   "metadata": {},
   "source": [
    "# DIST TEST:"
   ]
  },
  {
   "cell_type": "code",
   "execution_count": 127,
   "metadata": {},
   "outputs": [
    {
     "name": "stdout",
     "output_type": "stream",
     "text": [
      "minutes it took: 248.45003904104232\n"
     ]
    },
    {
     "name": "stderr",
     "output_type": "stream",
     "text": [
      "Process ForkPoolWorker-633:\n",
      "Process ForkPoolWorker-630:\n",
      "Process ForkPoolWorker-637:\n",
      "Traceback (most recent call last):\n",
      "Process ForkPoolWorker-636:\n",
      "Process ForkPoolWorker-631:\n",
      "Traceback (most recent call last):\n",
      "Process ForkPoolWorker-635:\n",
      "Process ForkPoolWorker-634:\n",
      "Traceback (most recent call last):\n",
      "Process ForkPoolWorker-632:\n",
      "Traceback (most recent call last):\n",
      "Traceback (most recent call last):\n",
      "  File \"/home/polichinel/anaconda3/lib/python3.6/multiprocessing/process.py\", line 258, in _bootstrap\n",
      "    self.run()\n",
      "  File \"/home/polichinel/anaconda3/lib/python3.6/multiprocessing/process.py\", line 258, in _bootstrap\n",
      "    self.run()\n",
      "  File \"/home/polichinel/anaconda3/lib/python3.6/multiprocessing/process.py\", line 258, in _bootstrap\n",
      "    self.run()\n",
      "Traceback (most recent call last):\n",
      "  File \"/home/polichinel/anaconda3/lib/python3.6/multiprocessing/process.py\", line 93, in run\n",
      "    self._target(*self._args, **self._kwargs)\n",
      "  File \"/home/polichinel/anaconda3/lib/python3.6/multiprocessing/process.py\", line 258, in _bootstrap\n",
      "    self.run()\n",
      "  File \"/home/polichinel/anaconda3/lib/python3.6/multiprocessing/process.py\", line 258, in _bootstrap\n",
      "    self.run()\n",
      "  File \"/home/polichinel/anaconda3/lib/python3.6/multiprocessing/process.py\", line 258, in _bootstrap\n",
      "    self.run()\n",
      "Traceback (most recent call last):\n",
      "  File \"/home/polichinel/anaconda3/lib/python3.6/multiprocessing/pool.py\", line 108, in worker\n",
      "    task = get()\n",
      "  File \"/home/polichinel/anaconda3/lib/python3.6/multiprocessing/process.py\", line 93, in run\n",
      "    self._target(*self._args, **self._kwargs)\n",
      "  File \"/home/polichinel/anaconda3/lib/python3.6/multiprocessing/process.py\", line 93, in run\n",
      "    self._target(*self._args, **self._kwargs)\n",
      "Traceback (most recent call last):\n",
      "  File \"/home/polichinel/anaconda3/lib/python3.6/multiprocessing/process.py\", line 93, in run\n",
      "    self._target(*self._args, **self._kwargs)\n",
      "  File \"/home/polichinel/anaconda3/lib/python3.6/multiprocessing/process.py\", line 93, in run\n",
      "    self._target(*self._args, **self._kwargs)\n",
      "  File \"/home/polichinel/anaconda3/lib/python3.6/multiprocessing/process.py\", line 93, in run\n",
      "    self._target(*self._args, **self._kwargs)\n",
      "  File \"/home/polichinel/anaconda3/lib/python3.6/multiprocessing/pool.py\", line 108, in worker\n",
      "    task = get()\n",
      "  File \"/home/polichinel/anaconda3/lib/python3.6/multiprocessing/process.py\", line 258, in _bootstrap\n",
      "    self.run()\n",
      "  File \"/home/polichinel/anaconda3/lib/python3.6/multiprocessing/pool.py\", line 108, in worker\n",
      "    task = get()\n",
      "  File \"/home/polichinel/anaconda3/lib/python3.6/multiprocessing/queues.py\", line 334, in get\n",
      "    with self._rlock:\n",
      "  File \"/home/polichinel/anaconda3/lib/python3.6/multiprocessing/process.py\", line 258, in _bootstrap\n",
      "    self.run()\n",
      "  File \"/home/polichinel/anaconda3/lib/python3.6/multiprocessing/pool.py\", line 108, in worker\n",
      "    task = get()\n",
      "  File \"/home/polichinel/anaconda3/lib/python3.6/multiprocessing/pool.py\", line 108, in worker\n",
      "    task = get()\n",
      "  File \"/home/polichinel/anaconda3/lib/python3.6/multiprocessing/pool.py\", line 108, in worker\n",
      "    task = get()\n",
      "  File \"/home/polichinel/anaconda3/lib/python3.6/multiprocessing/queues.py\", line 334, in get\n",
      "    with self._rlock:\n",
      "  File \"/home/polichinel/anaconda3/lib/python3.6/multiprocessing/queues.py\", line 334, in get\n",
      "    with self._rlock:\n",
      "  File \"/home/polichinel/anaconda3/lib/python3.6/multiprocessing/synchronize.py\", line 96, in __enter__\n",
      "    return self._semlock.__enter__()\n",
      "  File \"/home/polichinel/anaconda3/lib/python3.6/multiprocessing/process.py\", line 93, in run\n",
      "    self._target(*self._args, **self._kwargs)\n",
      "  File \"/home/polichinel/anaconda3/lib/python3.6/multiprocessing/queues.py\", line 334, in get\n",
      "    with self._rlock:\n",
      "  File \"/home/polichinel/anaconda3/lib/python3.6/multiprocessing/queues.py\", line 334, in get\n",
      "    with self._rlock:\n"
     ]
    }
   ],
   "source": [
    "# with pool:\n",
    "t0 = time.time()\n",
    "\n",
    "years = np.arange(1990,2011)\n",
    "\n",
    "def print_years(x):\n",
    "    \n",
    "    year = years[x]\n",
    "    \n",
    "    subset = df[df['year']==year].copy()\n",
    "    subset_point = df_point[df_point['year']==year].copy()\n",
    "    \n",
    "    dist_nearest_conflict_list = [subset_point['Coordinates'].distance(subset['geometry'].iloc[i].centroid).min() for i in range(subset.shape[0])]\n",
    "    \n",
    "    return(dist_nearest_conflict_list)\n",
    "\n",
    "\n",
    "pool = mp.Pool(processes=8)\n",
    "results = [pool.apply_async(print_years, args=(x,)) for x in range(years.shape[0])]\n",
    "\n",
    "output = [p.get() for p in results]\n",
    "\n",
    "t1 = time.time()-t0\n",
    "print('minutes it took: ' + str(t1/60))"
   ]
  },
  {
   "cell_type": "code",
   "execution_count": 142,
   "metadata": {},
   "outputs": [],
   "source": [
    "def make_df_dict():\n",
    "    \n",
    "    df_dict = {}\n",
    "        \n",
    "    for i in range(years.shape[0]):\n",
    "    \n",
    "        year = years[i]\n",
    "    \n",
    "        subset = df[df['year']==year].copy()\n",
    "        \n",
    "        subset['nearest_conflict'] = output[i]\n",
    "    \n",
    "        df_name = 'subset_' + str(year) \n",
    "    \n",
    "        df_dict[df_name]  = subset\n",
    "    \n",
    "    return(df_dict)"
   ]
  },
  {
   "cell_type": "code",
   "execution_count": 144,
   "metadata": {},
   "outputs": [],
   "source": [
    "df_dict = make_df_dict()"
   ]
  },
  {
   "cell_type": "code",
   "execution_count": 147,
   "metadata": {},
   "outputs": [
    {
     "data": {
      "text/plain": [
       "(64818, 29)"
      ]
     },
     "execution_count": 147,
     "metadata": {},
     "output_type": "execute_result"
    }
   ],
   "source": [
    "df_dict['subset_2010'].shape"
   ]
  },
  {
   "cell_type": "code",
   "execution_count": 171,
   "metadata": {},
   "outputs": [],
   "source": [
    "df = pd.concat([df_dict['subset_1990'],\n",
    "                df_dict['subset_1991'],\n",
    "                df_dict['subset_1992'],\n",
    "                df_dict['subset_1993'],\n",
    "                df_dict['subset_1994'],\n",
    "                df_dict['subset_1995'],\n",
    "                df_dict['subset_1996'],\n",
    "                df_dict['subset_1997'],\n",
    "                df_dict['subset_1998'],\n",
    "                df_dict['subset_1999'],\n",
    "                df_dict['subset_2000'],\n",
    "                df_dict['subset_2001'],\n",
    "                df_dict['subset_2002'],\n",
    "                df_dict['subset_2003'],\n",
    "                df_dict['subset_2004'],\n",
    "                df_dict['subset_2005'],\n",
    "                df_dict['subset_2006'],\n",
    "                df_dict['subset_2007'],\n",
    "                df_dict['subset_2008'],\n",
    "                df_dict['subset_2009'],\n",
    "                    df_dict['subset_2010']])"
   ]
  },
  {
   "cell_type": "code",
   "execution_count": 165,
   "metadata": {},
   "outputs": [],
   "source": [
    "#full_df.to_file('full_df') # to file ->  it is a geopandas df! -> or just pickle it..."
   ]
  },
  {
   "cell_type": "markdown",
   "metadata": {},
   "source": [
    "### Low and high ratios from Cederman, Gleditsch and Buhaug. p 105\n",
    "Should be vectorized and mad into one function:\n",
    "\n",
    "Mean kan vel også bruges som et relative mål for landet i forhold til andre lande?"
   ]
  },
  {
   "cell_type": "code",
   "execution_count": 173,
   "metadata": {},
   "outputs": [
    {
     "data": {
      "image/png": "[encoded data removed]",
      "text/plain": [
       "<Figure size 432x288 with 1 Axes>"
      ]
     },
     "metadata": {},
     "output_type": "display_data"
    },
    {
     "name": "stdout",
     "output_type": "stream",
     "text": [
      "Slope: 33.7\n",
      "Standart Error: 0.0446\n",
      "P-value: 0.0\n",
      "R²: 0.31\n"
     ]
    },
    {
     "data": {
      "image/png": "[encoded data removed]",
      "text/plain": [
       "<Figure size 432x288 with 1 Axes>"
      ]
     },
     "metadata": {},
     "output_type": "display_data"
    },
    {
     "name": "stdout",
     "output_type": "stream",
     "text": [
      "Slope: 5.67\n",
      "Standart Error: 0.00436\n",
      "P-value: 0.0\n",
      "R²: 0.571\n"
     ]
    }
   ],
   "source": [
    "# show the corrolation between light and gcp:\n",
    "\n",
    "def wealth_corr(df=df):\n",
    "\n",
    "    data = df.dropna()\n",
    "\n",
    "    # normal:\n",
    "    x = data['nlights_calib_mean']\n",
    "    y = data['interp_gcp_ppp']\n",
    "\n",
    "    slope, intercept, r_value, p_value, std_err = stats.linregress(x,y)\n",
    "    line = slope*x+intercept\n",
    "    plt.plot(x,y,'o', x, line, alpha = 0.5)\n",
    "        \n",
    "    # ---------------------\n",
    "    plt.xlabel('nlights_calib_mean')\n",
    "    plt.ylabel('interp_gcp_ppp')\n",
    "        \n",
    "    plt.show()\n",
    "    print('Slope: {:.3}\\nStandart Error: {:.3}\\nP-value: {:.3}\\nR²: {:.3}'.format(slope, std_err, p_value,r_value**2))\n",
    "\n",
    "    # log gcp:\n",
    "    x = data['nlights_calib_mean']\n",
    "    y = np.log(data['interp_gcp_ppp'] +1)\n",
    "\n",
    "    slope, intercept, r_value, p_value, std_err = stats.linregress(x,y)\n",
    "    line = slope*x+intercept\n",
    "    plt.plot(x,y,'o', x, line, alpha = 0.5)\n",
    "        \n",
    "    # ---------------------\n",
    "    plt.xlabel('nlights_calib_mean')\n",
    "    plt.ylabel('log_interp_gcp_ppp')\n",
    "        \n",
    "    plt.show()\n",
    "    print('Slope: {:.3}\\nStandart Error: {:.3}\\nP-value: {:.3}\\nR²: {:.3}'.format(slope, std_err, p_value,r_value**2))\n",
    "    \n",
    "    \n",
    "wealth_corr()"
   ]
  },
  {
   "cell_type": "markdown",
   "metadata": {},
   "source": [
    "## Der er et problem med alle nullerne i gcp. \n",
    "Det kan jo ikke passe at folk producere ingen ting.. Har du imputed noget eller er det sådan fra starten? og det er jo faktisk selvom der er ret lyst... Du skal helt sikkert overveje at droppe den.."
   ]
  },
  {
   "cell_type": "code",
   "execution_count": 12,
   "metadata": {},
   "outputs": [],
   "source": [
    "# But shoul you then log_tranform GCP before the interactions? As fare as I can tell that is not what cederman and gang does.."
   ]
  },
  {
   "cell_type": "code",
   "execution_count": 174,
   "metadata": {},
   "outputs": [],
   "source": [
    "# FOR light (WITH YEAR!!):\n",
    "\n",
    "# Create vector of means\n",
    "# Den strafffer lande med mange tyndt eller ubeboet celler...\n",
    "\n",
    "df['mean_light'] = df.groupby(['gwno','year'])['nlights_calib_mean'].transform(np.mean) # this shit! Måske netop np.where herfra..\n",
    "\n",
    "# Create vector base low_ratio (for now called low...)\n",
    "df['low_ratio_light'] = (df[df['nlights_calib_mean'] < df['mean_light']]['mean_light']+1) / (df[df['nlights_calib_mean'] < df['mean_light']]['nlights_calib_mean']+1) # +1 tt avoid /0\n",
    "df.loc[df['nlights_calib_mean'] >= df['mean_light'],'low_ratio_light'] = 1\n",
    "\n",
    "# Create vector base high_ratio (for now called high...)\n",
    "df['high_ratio_light'] = df[df['nlights_calib_mean'] > df['mean_light']]['nlights_calib_mean'] / df[df['nlights_calib_mean'] > df['mean_light']]['mean_light']\n",
    "df.loc[df['nlights_calib_mean'] <= df['mean_light'],'high_ratio_light'] = 1"
   ]
  },
  {
   "cell_type": "code",
   "execution_count": 175,
   "metadata": {},
   "outputs": [],
   "source": [
    "# FOR GCP(WITH YEAR!!):\n",
    "\n",
    "# Create vector of means\n",
    "# Den strafffer lande med mange tyndt eller ubeboet celler...\n",
    "df['mean_gcp'] = df.groupby(['gwno','year'])['interp_gcp_ppp'].transform(np.mean) # this shit! Måske netop np.where herfra..\n",
    "\n",
    "# Create vector base low_ratio (for now called low...)\n",
    "df['low_ratio_gcp'] = (df[df['interp_gcp_ppp'] < df['mean_gcp']]['mean_gcp']+1) / (df[df['interp_gcp_ppp'] < df['mean_gcp']]['interp_gcp_ppp']+1) # +1 tt avoid /0\n",
    "df.loc[df['interp_gcp_ppp'] >= df['mean_gcp'],'low_ratio_gcp'] = 1\n",
    "\n",
    "# Create vector base high_ratio (for now called high...)\n",
    "df['high_ratio_gcp'] = df[df['interp_gcp_ppp'] > df['mean_gcp']]['interp_gcp_ppp'] / df[df['interp_gcp_ppp'] > df['mean_gcp']]['mean_gcp']\n",
    "df.loc[df['interp_gcp_ppp'] <= df['mean_gcp'],'high_ratio_gcp'] = 1"
   ]
  },
  {
   "cell_type": "code",
   "execution_count": 176,
   "metadata": {},
   "outputs": [
    {
     "data": {
      "text/html": [
       "<div>\n",
       "<style scoped>\n",
       "    .dataframe tbody tr th:only-of-type {\n",
       "        vertical-align: middle;\n",
       "    }\n",
       "\n",
       "    .dataframe tbody tr th {\n",
       "        vertical-align: top;\n",
       "    }\n",
       "\n",
       "    .dataframe thead th {\n",
       "        text-align: right;\n",
       "    }\n",
       "</style>\n",
       "<table border=\"1\" class=\"dataframe\">\n",
       "  <thead>\n",
       "    <tr style=\"text-align: right;\">\n",
       "      <th></th>\n",
       "      <th>high_ratio_light</th>\n",
       "      <th>low_ratio_light</th>\n",
       "      <th>high_ratio_gcp</th>\n",
       "      <th>low_ratio_gcp</th>\n",
       "    </tr>\n",
       "  </thead>\n",
       "  <tbody>\n",
       "    <tr>\n",
       "      <th>count</th>\n",
       "      <td>1.361166e+06</td>\n",
       "      <td>1.361166e+06</td>\n",
       "      <td>1.333164e+06</td>\n",
       "      <td>1.333164e+06</td>\n",
       "    </tr>\n",
       "    <tr>\n",
       "      <th>mean</th>\n",
       "      <td>1.288303e+00</td>\n",
       "      <td>1.012347e+00</td>\n",
       "      <td>1.654332e+00</td>\n",
       "      <td>1.307266e+00</td>\n",
       "    </tr>\n",
       "    <tr>\n",
       "      <th>std</th>\n",
       "      <td>1.848843e+00</td>\n",
       "      <td>1.904707e-02</td>\n",
       "      <td>7.631091e+00</td>\n",
       "      <td>6.434020e-01</td>\n",
       "    </tr>\n",
       "    <tr>\n",
       "      <th>min</th>\n",
       "      <td>1.000000e+00</td>\n",
       "      <td>1.000000e+00</td>\n",
       "      <td>1.000000e+00</td>\n",
       "      <td>1.000000e+00</td>\n",
       "    </tr>\n",
       "    <tr>\n",
       "      <th>25%</th>\n",
       "      <td>1.000000e+00</td>\n",
       "      <td>1.000421e+00</td>\n",
       "      <td>1.000000e+00</td>\n",
       "      <td>1.019375e+00</td>\n",
       "    </tr>\n",
       "    <tr>\n",
       "      <th>50%</th>\n",
       "      <td>1.000000e+00</td>\n",
       "      <td>1.006108e+00</td>\n",
       "      <td>1.000000e+00</td>\n",
       "      <td>1.111704e+00</td>\n",
       "    </tr>\n",
       "    <tr>\n",
       "      <th>75%</th>\n",
       "      <td>1.000000e+00</td>\n",
       "      <td>1.014252e+00</td>\n",
       "      <td>1.000000e+00</td>\n",
       "      <td>1.271907e+00</td>\n",
       "    </tr>\n",
       "    <tr>\n",
       "      <th>max</th>\n",
       "      <td>2.696986e+02</td>\n",
       "      <td>1.352020e+00</td>\n",
       "      <td>7.454143e+02</td>\n",
       "      <td>1.522379e+01</td>\n",
       "    </tr>\n",
       "  </tbody>\n",
       "</table>\n",
       "</div>"
      ],
      "text/plain": [
       "       high_ratio_light  low_ratio_light  high_ratio_gcp  low_ratio_gcp\n",
       "count      1.361166e+06     1.361166e+06    1.333164e+06   1.333164e+06\n",
       "mean       1.288303e+00     1.012347e+00    1.654332e+00   1.307266e+00\n",
       "std        1.848843e+00     1.904707e-02    7.631091e+00   6.434020e-01\n",
       "min        1.000000e+00     1.000000e+00    1.000000e+00   1.000000e+00\n",
       "25%        1.000000e+00     1.000421e+00    1.000000e+00   1.019375e+00\n",
       "50%        1.000000e+00     1.006108e+00    1.000000e+00   1.111704e+00\n",
       "75%        1.000000e+00     1.014252e+00    1.000000e+00   1.271907e+00\n",
       "max        2.696986e+02     1.352020e+00    7.454143e+02   1.522379e+01"
      ]
     },
     "execution_count": 176,
     "metadata": {},
     "output_type": "execute_result"
    }
   ],
   "source": [
    "df[['high_ratio_light','low_ratio_light','high_ratio_gcp','low_ratio_gcp']].describe()"
   ]
  },
  {
   "cell_type": "markdown",
   "metadata": {},
   "source": [
    "### Make a few interactions: \n",
    "\n",
    "#### Skal du logge gcp før interactionerne.. Eller efter?"
   ]
  },
  {
   "cell_type": "code",
   "execution_count": 177,
   "metadata": {},
   "outputs": [],
   "source": [
    "# binary excluded vriabel. Asking 'if', not 'how many'.\n",
    "df['excluded_binary'] = pd.Series(df['excluded'] > 0).astype('int') # burde være rigtig.. men funky resultater ved df['excluded_low_ratio_light']\n",
    "\n",
    "# # interaction with original excluded:\n",
    "# df['excluded_nlights'] = (df['excluded']+1) / (df['nlights_calib_mean']+1) # my own implimentation\n",
    "# df['excluded_gcp'] = (df['excluded']+1) / (df['interp_gcp_ppp']+1) # my own implimentation\n",
    "\n",
    "# # interaction with binary excluded:\n",
    "# df['excluded_b_nlights'] = (df['excluded_binary']+1) / (df['nlights_calib_mean']+1) # my own implimentation\n",
    "# df['excluded_b_gcp'] = (df['excluded_binary']+1) / (df['interp_gcp_ppp']+1) # my own implimentation\n",
    "\n",
    "# # Teoritisk set er denne her altså bedre...\n",
    "# df['excluded_b_nlights_alt'] = (df['excluded_binary']) / (df['nlights_calib_mean']+1) # my own implimentation\n",
    "# df['excluded_b_gcp_alt'] = (df['excluded_binary']) / (df['interp_gcp_ppp']+1) # my own implimentation\n",
    "\n",
    "# # ------------------------------\n",
    "\n",
    "\n",
    "# Cederman, Gledisch and Buhaug:\n",
    "\n",
    "# binary:\n",
    "df['excluded_b_low_ratio_gcp'] = df['low_ratio_gcp'] * df['excluded_binary']\n",
    "\n",
    "df['excluded_b_high_ratio_gcp'] = df['high_ratio_gcp']* df['excluded_binary']\n",
    "\n",
    "df['excluded_b_low_ratio_light'] = df['low_ratio_light'] * df['excluded_binary']\n",
    "\n",
    "df['excluded_b_high_ratio_light'] = df['high_ratio_light']* df['excluded_binary']\n",
    "\n",
    "# Original:\n",
    "df['excluded_low_ratio_gcp'] = df['low_ratio_gcp'] * df['excluded']\n",
    "\n",
    "df['excluded_high_ratio_gcp'] = df['high_ratio_gcp']* df['excluded']\n",
    "\n",
    "df['excluded_low_ratio_light'] = df['low_ratio_light'] * df['excluded']\n",
    "\n",
    "df['excluded_high_ratio_light'] = df['high_ratio_light']* df['excluded']\n",
    "\n",
    "\n",
    "# Not really the same as Cederman, Gledisch and Buhaug. Assumes that the excluded groups size is some positive function of total size..\n",
    "df['excluded_pop'] = df['excluded'] * df['interp_pop_gpw_sum']\n",
    "df['excluded_b_pop'] = df['excluded_binary'] * df['interp_pop_gpw_sum']\n",
    "\n",
    "# --------------------------------------------\n",
    "# relative deprevation (my) + inter action:\n",
    "\n",
    "# If poeple compare with the top\n",
    "# country(and year) specific standart diviation * cell exculded (binary)\n",
    "\n",
    "# if poeple compare with most(median):\n",
    "# distance (count or std. d?) to (country_year) medain from cell median * cell exculded (Denne her er måske faktisk bedst..)\n",
    "\n",
    "# Create vector of mediab\n",
    "\n",
    "# LIGHT:---------------------------------------------------\n",
    "# Den strafffer lande med mange tyndt eller ubeboet celler...\n",
    "\n",
    "df['country_year_median_light'] = df.groupby(['gwno','year'])['nlights_calib_mean'].transform(np.median) # this shit! Måske netop np.where herfra..\n",
    "\n",
    "df['diff_median_light'] = df['country_year_median_light'] - df['nlights_calib_mean'] # should make this stop at zero\n",
    "\n",
    "df['diff_median_light_zero'] = df['diff_median_light']\n",
    "\n",
    "df.loc[df['diff_median_light_zero'] <=0, 'diff_median_light_zero'] = 0\n",
    "\n",
    "\n",
    "\n",
    "df['diff_median_light_excluded_b_zero'] = df['diff_median_light_zero'] * df['excluded_binary']\n",
    "\n",
    "df['diff_median_light_excluded'] = df['diff_median_light'] * df['excluded']\n",
    "\n",
    "df['diff_median_light_excluded_b'] = df['diff_median_light'] * df['excluded_binary']\n",
    "\n",
    "\n",
    "\n",
    "#df['diff_median_light_excluded_b_zero'] = \n",
    "\n",
    "# GCP: ---------------------------------------------------------------------------\n",
    "# Den strafffer lande med mange tyndt eller ubeboet celler...\n",
    "\n",
    "df['country_year_median_gcp'] = df.groupby(['gwno','year'])['interp_gcp_ppp'].transform(np.median) # this shit! Måske netop np.where herfra..\n",
    "\n",
    "df['diff_median_gcp'] = df['country_year_median_gcp'] - df['interp_gcp_ppp']\n",
    "\n",
    "\n",
    "df['diff_median_gcp_zero'] = df['diff_median_gcp']\n",
    "\n",
    "df.loc[df['diff_median_gcp_zero'] <=0, 'diff_median_gcp_zero'] = 0\n",
    "\n",
    "\n",
    "df['diff_median_gcp_excluded_b_zero'] = df['diff_median_gcp_zero'] * df['excluded_binary']\n",
    "\n",
    "df['diff_median_gcp_excluded'] = df['diff_median_gcp'] * df['excluded']\n",
    "\n",
    "df['diff_median_gcp_excluded_b'] = df['diff_median_gcp'] * df['excluded_binary']\n",
    "\n",
    "#df['diff_median_gcp_excluded_b_zero'] = \n",
    "\n",
    "# # Create vector base low_ratio (for now called low...)\n",
    "# df['low_ratio_light'] = (df[df['nlights_calib_mean'] < df['mean_light']]['mean_light']+1) / (df[df['nlights_calib_mean'] < df['mean_light']]['nlights_calib_mean']+1) # +1 tt avoid /0\n",
    "# df.loc[df['nlights_calib_mean'] >= df['mean_light'],'low_ratio_light'] = 1\n",
    "\n",
    "# # Create vector base high_ratio (for now called high...)\n",
    "# df['high_ratio_light'] = df[df['nlights_calib_mean'] > df['mean_light']]['nlights_calib_mean'] / df[df['nlights_calib_mean'] > df['mean_light']]['mean_light']\n",
    "# df.loc[df['nlights_calib_mean'] <= df['mean_light'],'high_ratio_light'] = 1\n",
    "\n",
    "\n",
    "\n",
    "# if people compare with mean:\n",
    "# Distance (count or std. d?) to (country_year) mean from cell mean * cell excluded\n",
    "\n",
    "# De to sidste kunne dog også lave med world mean and median? -> kommer fra Goldstone 2010.. Det er grund nok.\n",
    "\n",
    "\n",
    "# Distance from (cell) median to (world/country/cell?) mean * excluded!\n"
   ]
  },
  {
   "cell_type": "markdown",
   "metadata": {},
   "source": [
    "### Country pop and size"
   ]
  },
  {
   "cell_type": "code",
   "execution_count": 178,
   "metadata": {},
   "outputs": [],
   "source": [
    "# Virker fint\n",
    "\n",
    "df['country_area_sum'] = df.groupby(['gwno','year'])['landarea'].transform(np.sum) # this shit! Måske netop np.where herfra..\n",
    "df['country_pop_sum'] = df.groupby(['gwno','year'])['interp_pop_gpw_sum'].transform(np.sum) # this shit! Måske netop np.where herfra..\n"
   ]
  },
  {
   "cell_type": "code",
   "execution_count": 179,
   "metadata": {},
   "outputs": [
    {
     "data": {
      "text/html": [
       "<div>\n",
       "<style scoped>\n",
       "    .dataframe tbody tr th:only-of-type {\n",
       "        vertical-align: middle;\n",
       "    }\n",
       "\n",
       "    .dataframe tbody tr th {\n",
       "        vertical-align: top;\n",
       "    }\n",
       "\n",
       "    .dataframe thead th {\n",
       "        text-align: right;\n",
       "    }\n",
       "</style>\n",
       "<table border=\"1\" class=\"dataframe\">\n",
       "  <thead>\n",
       "    <tr style=\"text-align: right;\">\n",
       "      <th></th>\n",
       "      <th>country_area_sum</th>\n",
       "      <th>country_pop_sum</th>\n",
       "    </tr>\n",
       "  </thead>\n",
       "  <tbody>\n",
       "    <tr>\n",
       "      <th>65584</th>\n",
       "      <td>9.428286e+06</td>\n",
       "      <td>3.086483e+08</td>\n",
       "    </tr>\n",
       "    <tr>\n",
       "      <th>65605</th>\n",
       "      <td>9.428286e+06</td>\n",
       "      <td>3.086483e+08</td>\n",
       "    </tr>\n",
       "    <tr>\n",
       "      <th>65626</th>\n",
       "      <td>9.428286e+06</td>\n",
       "      <td>3.086483e+08</td>\n",
       "    </tr>\n",
       "    <tr>\n",
       "      <th>65647</th>\n",
       "      <td>9.428286e+06</td>\n",
       "      <td>3.086483e+08</td>\n",
       "    </tr>\n",
       "    <tr>\n",
       "      <th>65668</th>\n",
       "      <td>9.428286e+06</td>\n",
       "      <td>3.086483e+08</td>\n",
       "    </tr>\n",
       "  </tbody>\n",
       "</table>\n",
       "</div>"
      ],
      "text/plain": [
       "       country_area_sum  country_pop_sum\n",
       "65584      9.428286e+06     3.086483e+08\n",
       "65605      9.428286e+06     3.086483e+08\n",
       "65626      9.428286e+06     3.086483e+08\n",
       "65647      9.428286e+06     3.086483e+08\n",
       "65668      9.428286e+06     3.086483e+08"
      ]
     },
     "execution_count": 179,
     "metadata": {},
     "output_type": "execute_result"
    }
   ],
   "source": [
    "df[(df['gwno'] == 2 ) & (df['year'] == 2010)][['country_area_sum','country_pop_sum']].head() # passer på usa wiki areal og folke tælling 2010. ca."
   ]
  },
  {
   "cell_type": "markdown",
   "metadata": {},
   "source": [
    "# pop dens country and cell:"
   ]
  },
  {
   "cell_type": "code",
   "execution_count": 180,
   "metadata": {},
   "outputs": [],
   "source": [
    "# mass divided by volumen\n",
    "\n",
    "df['pop_cell_dens'] = df['interp_pop_gpw_sum']/(df['landarea']+1) # men det her med 1 dur ikke..\n",
    "df['pop_country_dens'] = df['country_pop_sum']/(df['country_area_sum']+1)\n",
    "\n",
    "# interaction with excluded:\n",
    "\n",
    "df['pop_cell_dens_excluded'] = df['pop_cell_dens'] * df['excluded']\n",
    "\n",
    "df['pop_cell_dens_excluded_b'] = df['pop_cell_dens'] * df['excluded_binary']\n",
    "\n",
    "# det med + 1 går nok ikke men det ser ellers fint ud...\n",
    "# men der burde heller ikke være nogen med 0? og hvis der er gør +1 minimal forskel..."
   ]
  },
  {
   "cell_type": "markdown",
   "metadata": {},
   "source": [
    "# Pop corrected variabeles:"
   ]
  },
  {
   "cell_type": "markdown",
   "metadata": {},
   "source": [
    "**Kan du ikke bare dividere nlight-country-year-mean med country-pop???**"
   ]
  },
  {
   "cell_type": "markdown",
   "metadata": {},
   "source": [
    "### Andre interaktion eller transformation fra litteraturen? \n",
    "**Overvej også at behandle best som en tidsserie og brug fremskrivningen som som variable - både count og slope. **\n",
    "- Ja, men det er jo lidt det den kommende guassian process i modellen burde gøre... Right?\n",
    "\n",
    "- Low and high ratio are effectivly inequality before the interaction.\n",
    "\n",
    "- Hvad sker der for politisk system og infant mortality? Det bliver du nød til at snakke om... Politisk system måske med henvisning til at når man ikke bruger Polity IV har littereaturen ikke fundet meget... Infant mort fordi der kun er et år.."
   ]
  },
  {
   "cell_type": "markdown",
   "metadata": {},
   "source": [
    "### Logs:\n",
    "**Her skal der sorteres ud!!!** Men nye skal også in. igen er det nok lettest at lave en negtiv liste.."
   ]
  },
  {
   "cell_type": "code",
   "execution_count": 181,
   "metadata": {},
   "outputs": [
    {
     "name": "stderr",
     "output_type": "stream",
     "text": [
      "/home/polichinel/anaconda3/lib/python3.6/site-packages/ipykernel_launcher.py:16: RuntimeWarning: invalid value encountered in log\n",
      "  app.launch_new_instance()\n"
     ]
    }
   ],
   "source": [
    "# New\n",
    "\n",
    "def log_transformation(df = df):\n",
    "    \n",
    "    features_not_to_log = ['gid','geometry','year','gwno',\n",
    "                           'excluded','petroleum_full','log_best','best']  # lead_binary_best\n",
    "    # log_best already definded.. Men hvorfor har du gjort det?\n",
    "    \n",
    "    \n",
    "    for feature in df.columns:\n",
    "        \n",
    "        if feature not in features_not_to_log:\n",
    "    \n",
    "            feature_name = 'log_' + feature\n",
    "    \n",
    "            df[feature_name] = np.log(df[feature] + 1)\n",
    "\n",
    "log_transformation()"
   ]
  },
  {
   "cell_type": "code",
   "execution_count": 182,
   "metadata": {},
   "outputs": [
    {
     "data": {
      "text/html": [
       "<div>\n",
       "<style scoped>\n",
       "    .dataframe tbody tr th:only-of-type {\n",
       "        vertical-align: middle;\n",
       "    }\n",
       "\n",
       "    .dataframe tbody tr th {\n",
       "        vertical-align: top;\n",
       "    }\n",
       "\n",
       "    .dataframe thead th {\n",
       "        text-align: right;\n",
       "    }\n",
       "</style>\n",
       "<table border=\"1\" class=\"dataframe\">\n",
       "  <thead>\n",
       "    <tr style=\"text-align: right;\">\n",
       "      <th></th>\n",
       "      <th>gid</th>\n",
       "      <th>landarea</th>\n",
       "      <th>ttime_mean</th>\n",
       "      <th>mountains_mean</th>\n",
       "      <th>year</th>\n",
       "      <th>interp_pop_gpw_sum</th>\n",
       "      <th>interp_gcp_ppp</th>\n",
       "      <th>interp_urban_ih</th>\n",
       "      <th>interp_agri_ih</th>\n",
       "      <th>interp_forest_ih</th>\n",
       "      <th>...</th>\n",
       "      <th>log_diff_median_gcp_zero</th>\n",
       "      <th>log_diff_median_gcp_excluded_b_zero</th>\n",
       "      <th>log_diff_median_gcp_excluded</th>\n",
       "      <th>log_diff_median_gcp_excluded_b</th>\n",
       "      <th>log_country_area_sum</th>\n",
       "      <th>log_country_pop_sum</th>\n",
       "      <th>log_pop_cell_dens</th>\n",
       "      <th>log_pop_country_dens</th>\n",
       "      <th>log_pop_cell_dens_excluded</th>\n",
       "      <th>log_pop_cell_dens_excluded_b</th>\n",
       "    </tr>\n",
       "  </thead>\n",
       "  <tbody>\n",
       "    <tr>\n",
       "      <th>count</th>\n",
       "      <td>1.361166e+06</td>\n",
       "      <td>1.361166e+06</td>\n",
       "      <td>1.359045e+06</td>\n",
       "      <td>1.361166e+06</td>\n",
       "      <td>1.361166e+06</td>\n",
       "      <td>1.361166e+06</td>\n",
       "      <td>1.333164e+06</td>\n",
       "      <td>1.361166e+06</td>\n",
       "      <td>1.361166e+06</td>\n",
       "      <td>1.361166e+06</td>\n",
       "      <td>...</td>\n",
       "      <td>1.333164e+06</td>\n",
       "      <td>1.333164e+06</td>\n",
       "      <td>1.302411e+06</td>\n",
       "      <td>1.306694e+06</td>\n",
       "      <td>1.361166e+06</td>\n",
       "      <td>1.361166e+06</td>\n",
       "      <td>1.361166e+06</td>\n",
       "      <td>1.361166e+06</td>\n",
       "      <td>1.361166e+06</td>\n",
       "      <td>1.361166e+06</td>\n",
       "    </tr>\n",
       "    <tr>\n",
       "      <th>mean</th>\n",
       "      <td>1.744246e+05</td>\n",
       "      <td>2.036876e+03</td>\n",
       "      <td>1.187741e+03</td>\n",
       "      <td>2.400670e-01</td>\n",
       "      <td>2.000000e+03</td>\n",
       "      <td>9.318020e+04</td>\n",
       "      <td>7.070617e-01</td>\n",
       "      <td>2.611628e-01</td>\n",
       "      <td>9.266413e+00</td>\n",
       "      <td>2.002904e+01</td>\n",
       "      <td>...</td>\n",
       "      <td>4.137375e-02</td>\n",
       "      <td>1.324911e-02</td>\n",
       "      <td>-1.827307e-02</td>\n",
       "      <td>-1.858046e-02</td>\n",
       "      <td>1.504342e+01</td>\n",
       "      <td>1.784650e+01</td>\n",
       "      <td>1.788640e+00</td>\n",
       "      <td>2.913675e+00</td>\n",
       "      <td>5.489580e-01</td>\n",
       "      <td>5.270001e-01</td>\n",
       "    </tr>\n",
       "    <tr>\n",
       "      <th>std</th>\n",
       "      <td>4.581800e+04</td>\n",
       "      <td>8.691272e+02</td>\n",
       "      <td>1.690242e+03</td>\n",
       "      <td>3.599505e-01</td>\n",
       "      <td>6.055276e+00</td>\n",
       "      <td>3.593460e+05</td>\n",
       "      <td>4.173917e+00</td>\n",
       "      <td>1.699702e+00</td>\n",
       "      <td>1.835081e+01</td>\n",
       "      <td>3.245662e+01</td>\n",
       "      <td>...</td>\n",
       "      <td>1.582122e-01</td>\n",
       "      <td>6.074386e-02</td>\n",
       "      <td>2.239986e-01</td>\n",
       "      <td>2.173766e-01</td>\n",
       "      <td>1.561769e+00</td>\n",
       "      <td>1.595408e+00</td>\n",
       "      <td>1.845913e+00</td>\n",
       "      <td>1.261145e+00</td>\n",
       "      <td>1.264151e+00</td>\n",
       "      <td>1.211527e+00</td>\n",
       "    </tr>\n",
       "    <tr>\n",
       "      <th>min</th>\n",
       "      <td>4.918200e+04</td>\n",
       "      <td>2.559617e-06</td>\n",
       "      <td>5.123288e+00</td>\n",
       "      <td>0.000000e+00</td>\n",
       "      <td>1.990000e+03</td>\n",
       "      <td>-4.336809e-19</td>\n",
       "      <td>0.000000e+00</td>\n",
       "      <td>0.000000e+00</td>\n",
       "      <td>0.000000e+00</td>\n",
       "      <td>0.000000e+00</td>\n",
       "      <td>...</td>\n",
       "      <td>0.000000e+00</td>\n",
       "      <td>0.000000e+00</td>\n",
       "      <td>-8.451499e+00</td>\n",
       "      <td>-8.451499e+00</td>\n",
       "      <td>3.342326e+00</td>\n",
       "      <td>8.564526e+00</td>\n",
       "      <td>0.000000e+00</td>\n",
       "      <td>8.987136e-01</td>\n",
       "      <td>0.000000e+00</td>\n",
       "      <td>0.000000e+00</td>\n",
       "    </tr>\n",
       "    <tr>\n",
       "      <th>25%</th>\n",
       "      <td>1.407950e+05</td>\n",
       "      <td>1.391276e+03</td>\n",
       "      <td>2.227483e+02</td>\n",
       "      <td>0.000000e+00</td>\n",
       "      <td>1.995000e+03</td>\n",
       "      <td>2.129668e+02</td>\n",
       "      <td>2.946746e-03</td>\n",
       "      <td>0.000000e+00</td>\n",
       "      <td>0.000000e+00</td>\n",
       "      <td>0.000000e+00</td>\n",
       "      <td>...</td>\n",
       "      <td>0.000000e+00</td>\n",
       "      <td>0.000000e+00</td>\n",
       "      <td>0.000000e+00</td>\n",
       "      <td>0.000000e+00</td>\n",
       "      <td>1.396928e+01</td>\n",
       "      <td>1.683403e+01</td>\n",
       "      <td>1.393197e-01</td>\n",
       "      <td>2.217514e+00</td>\n",
       "      <td>0.000000e+00</td>\n",
       "      <td>0.000000e+00</td>\n",
       "    </tr>\n",
       "    <tr>\n",
       "      <th>50%</th>\n",
       "      <td>1.842010e+05</td>\n",
       "      <td>2.195231e+03</td>\n",
       "      <td>5.082728e+02</td>\n",
       "      <td>0.000000e+00</td>\n",
       "      <td>2.000000e+03</td>\n",
       "      <td>4.085204e+03</td>\n",
       "      <td>2.414200e-02</td>\n",
       "      <td>0.000000e+00</td>\n",
       "      <td>1.900000e-01</td>\n",
       "      <td>0.000000e+00</td>\n",
       "      <td>...</td>\n",
       "      <td>0.000000e+00</td>\n",
       "      <td>0.000000e+00</td>\n",
       "      <td>0.000000e+00</td>\n",
       "      <td>0.000000e+00</td>\n",
       "      <td>1.585695e+01</td>\n",
       "      <td>1.767185e+01</td>\n",
       "      <td>1.134751e+00</td>\n",
       "      <td>2.654585e+00</td>\n",
       "      <td>0.000000e+00</td>\n",
       "      <td>0.000000e+00</td>\n",
       "    </tr>\n",
       "    <tr>\n",
       "      <th>75%</th>\n",
       "      <td>2.129270e+05</td>\n",
       "      <td>2.818335e+03</td>\n",
       "      <td>1.483922e+03</td>\n",
       "      <td>4.500000e-01</td>\n",
       "      <td>2.005000e+03</td>\n",
       "      <td>4.235912e+04</td>\n",
       "      <td>2.333571e-01</td>\n",
       "      <td>0.000000e+00</td>\n",
       "      <td>8.200000e+00</td>\n",
       "      <td>3.051700e+01</td>\n",
       "      <td>...</td>\n",
       "      <td>9.114266e-03</td>\n",
       "      <td>0.000000e+00</td>\n",
       "      <td>0.000000e+00</td>\n",
       "      <td>0.000000e+00</td>\n",
       "      <td>1.610923e+01</td>\n",
       "      <td>1.881680e+01</td>\n",
       "      <td>3.059354e+00</td>\n",
       "      <td>3.689475e+00</td>\n",
       "      <td>1.469737e-01</td>\n",
       "      <td>1.463061e-01</td>\n",
       "    </tr>\n",
       "    <tr>\n",
       "      <th>max</th>\n",
       "      <td>2.493440e+05</td>\n",
       "      <td>3.091067e+03</td>\n",
       "      <td>3.003262e+04</td>\n",
       "      <td>1.000000e+00</td>\n",
       "      <td>2.010000e+03</td>\n",
       "      <td>1.827816e+07</td>\n",
       "      <td>2.646676e+02</td>\n",
       "      <td>7.811000e+01</td>\n",
       "      <td>1.000000e+02</td>\n",
       "      <td>1.000000e+02</td>\n",
       "      <td>...</td>\n",
       "      <td>3.187464e+00</td>\n",
       "      <td>2.061403e+00</td>\n",
       "      <td>2.587496e+00</td>\n",
       "      <td>2.061403e+00</td>\n",
       "      <td>1.690503e+01</td>\n",
       "      <td>2.102392e+01</td>\n",
       "      <td>1.184343e+01</td>\n",
       "      <td>9.064980e+00</td>\n",
       "      <td>9.493296e+00</td>\n",
       "      <td>9.493296e+00</td>\n",
       "    </tr>\n",
       "  </tbody>\n",
       "</table>\n",
       "<p>8 rows × 119 columns</p>\n",
       "</div>"
      ],
      "text/plain": [
       "                gid      landarea    ttime_mean  mountains_mean          year  \\\n",
       "count  1.361166e+06  1.361166e+06  1.359045e+06    1.361166e+06  1.361166e+06   \n",
       "mean   1.744246e+05  2.036876e+03  1.187741e+03    2.400670e-01  2.000000e+03   \n",
       "std    4.581800e+04  8.691272e+02  1.690242e+03    3.599505e-01  6.055276e+00   \n",
       "min    4.918200e+04  2.559617e-06  5.123288e+00    0.000000e+00  1.990000e+03   \n",
       "25%    1.407950e+05  1.391276e+03  2.227483e+02    0.000000e+00  1.995000e+03   \n",
       "50%    1.842010e+05  2.195231e+03  5.082728e+02    0.000000e+00  2.000000e+03   \n",
       "75%    2.129270e+05  2.818335e+03  1.483922e+03    4.500000e-01  2.005000e+03   \n",
       "max    2.493440e+05  3.091067e+03  3.003262e+04    1.000000e+00  2.010000e+03   \n",
       "\n",
       "       interp_pop_gpw_sum  interp_gcp_ppp  interp_urban_ih  interp_agri_ih  \\\n",
       "count        1.361166e+06    1.333164e+06     1.361166e+06    1.361166e+06   \n",
       "mean         9.318020e+04    7.070617e-01     2.611628e-01    9.266413e+00   \n",
       "std          3.593460e+05    4.173917e+00     1.699702e+00    1.835081e+01   \n",
       "min         -4.336809e-19    0.000000e+00     0.000000e+00    0.000000e+00   \n",
       "25%          2.129668e+02    2.946746e-03     0.000000e+00    0.000000e+00   \n",
       "50%          4.085204e+03    2.414200e-02     0.000000e+00    1.900000e-01   \n",
       "75%          4.235912e+04    2.333571e-01     0.000000e+00    8.200000e+00   \n",
       "max          1.827816e+07    2.646676e+02     7.811000e+01    1.000000e+02   \n",
       "\n",
       "       interp_forest_ih              ...               \\\n",
       "count      1.361166e+06              ...                \n",
       "mean       2.002904e+01              ...                \n",
       "std        3.245662e+01              ...                \n",
       "min        0.000000e+00              ...                \n",
       "25%        0.000000e+00              ...                \n",
       "50%        0.000000e+00              ...                \n",
       "75%        3.051700e+01              ...                \n",
       "max        1.000000e+02              ...                \n",
       "\n",
       "       log_diff_median_gcp_zero  log_diff_median_gcp_excluded_b_zero  \\\n",
       "count              1.333164e+06                         1.333164e+06   \n",
       "mean               4.137375e-02                         1.324911e-02   \n",
       "std                1.582122e-01                         6.074386e-02   \n",
       "min                0.000000e+00                         0.000000e+00   \n",
       "25%                0.000000e+00                         0.000000e+00   \n",
       "50%                0.000000e+00                         0.000000e+00   \n",
       "75%                9.114266e-03                         0.000000e+00   \n",
       "max                3.187464e+00                         2.061403e+00   \n",
       "\n",
       "       log_diff_median_gcp_excluded  log_diff_median_gcp_excluded_b  \\\n",
       "count                  1.302411e+06                    1.306694e+06   \n",
       "mean                  -1.827307e-02                   -1.858046e-02   \n",
       "std                    2.239986e-01                    2.173766e-01   \n",
       "min                   -8.451499e+00                   -8.451499e+00   \n",
       "25%                    0.000000e+00                    0.000000e+00   \n",
       "50%                    0.000000e+00                    0.000000e+00   \n",
       "75%                    0.000000e+00                    0.000000e+00   \n",
       "max                    2.587496e+00                    2.061403e+00   \n",
       "\n",
       "       log_country_area_sum  log_country_pop_sum  log_pop_cell_dens  \\\n",
       "count          1.361166e+06         1.361166e+06       1.361166e+06   \n",
       "mean           1.504342e+01         1.784650e+01       1.788640e+00   \n",
       "std            1.561769e+00         1.595408e+00       1.845913e+00   \n",
       "min            3.342326e+00         8.564526e+00       0.000000e+00   \n",
       "25%            1.396928e+01         1.683403e+01       1.393197e-01   \n",
       "50%            1.585695e+01         1.767185e+01       1.134751e+00   \n",
       "75%            1.610923e+01         1.881680e+01       3.059354e+00   \n",
       "max            1.690503e+01         2.102392e+01       1.184343e+01   \n",
       "\n",
       "       log_pop_country_dens  log_pop_cell_dens_excluded  \\\n",
       "count          1.361166e+06                1.361166e+06   \n",
       "mean           2.913675e+00                5.489580e-01   \n",
       "std            1.261145e+00                1.264151e+00   \n",
       "min            8.987136e-01                0.000000e+00   \n",
       "25%            2.217514e+00                0.000000e+00   \n",
       "50%            2.654585e+00                0.000000e+00   \n",
       "75%            3.689475e+00                1.469737e-01   \n",
       "max            9.064980e+00                9.493296e+00   \n",
       "\n",
       "       log_pop_cell_dens_excluded_b  \n",
       "count                  1.361166e+06  \n",
       "mean                   5.270001e-01  \n",
       "std                    1.211527e+00  \n",
       "min                    0.000000e+00  \n",
       "25%                    0.000000e+00  \n",
       "50%                    0.000000e+00  \n",
       "75%                    1.463061e-01  \n",
       "max                    9.493296e+00  \n",
       "\n",
       "[8 rows x 119 columns]"
      ]
     },
     "execution_count": 182,
     "metadata": {},
     "output_type": "execute_result"
    }
   ],
   "source": [
    "df.describe()"
   ]
  },
  {
   "cell_type": "code",
   "execution_count": 183,
   "metadata": {},
   "outputs": [],
   "source": [
    "# Lead best\n",
    "df['lead_log_best'] = df.sort_values('year').groupby(['gid'])['log_best'].shift(-1)"
   ]
  },
  {
   "cell_type": "code",
   "execution_count": null,
   "metadata": {},
   "outputs": [],
   "source": [
    "import pickle \n",
    "    \n",
    "file_name = \"full_df.pkl\"\n",
    "output = open(file_name, 'wb') # still not working right!!\n",
    "pickle.dump(df, output)\n",
    "output.close()"
   ]
  },
  {
   "cell_type": "code",
   "execution_count": 187,
   "metadata": {},
   "outputs": [],
   "source": [
    "\n",
    "pkl_file = open('full_df.pkl', 'rb')\n",
    "\n",
    "pickle_test_gdf = pickle.load(pkl_file)\n",
    "\n",
    "pkl_file.close()"
   ]
  },
  {
   "cell_type": "code",
   "execution_count": 190,
   "metadata": {},
   "outputs": [
    {
     "data": {
      "text/plain": [
       "(1361166, 121)"
      ]
     },
     "execution_count": 190,
     "metadata": {},
     "output_type": "execute_result"
    }
   ],
   "source": [
    "pickle_test_gdf.shape"
   ]
  },
  {
   "cell_type": "code",
   "execution_count": 192,
   "metadata": {},
   "outputs": [
    {
     "data": {
      "image/png": "[encoded data removed]",
      "text/plain": [
       "<Figure size 1080x1080 with 1 Axes>"
      ]
     },
     "metadata": {},
     "output_type": "display_data"
    }
   ],
   "source": [
    "pickle_test_gdf[pickle_test_gdf['year']==2002].plot(column = 'nearest_conflict', figsize=(15, 15))\n",
    "plt.show()"
   ]
  }
 ],
 "metadata": {
  "kernelspec": {
   "display_name": "Python 3",
   "language": "python",
   "name": "python3"
  },
  "language_info": {
   "codemirror_mode": {
    "name": "ipython",
    "version": 3
   },
   "file_extension": ".py",
   "mimetype": "text/x-python",
   "name": "python",
   "nbconvert_exporter": "python",
   "pygments_lexer": "ipython3",
   "version": "3.6.6"
  }
 },
 "nbformat": 4,
 "nbformat_minor": 2
}
