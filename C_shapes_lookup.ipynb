{
 "cells": [
  {
   "cell_type": "code",
   "execution_count": 1,
   "metadata": {},
   "outputs": [],
   "source": [
    "import numpy as np\n",
    "import pandas as pd\n",
    "import geopandas as gpd"
   ]
  },
  {
   "cell_type": "code",
   "execution_count": 2,
   "metadata": {},
   "outputs": [],
   "source": [
    "def my_import_2():\n",
    "    cshapes = gpd.read_file(\"zip:////home/polichinel/Dropbox/KU/9.semester/friopgave/data/CShapes/cshapes_0.6.zip\")\n",
    "    cshapes.rename(columns={'CNTRY_NAME':'country_name','COWCODE':'gwno'}, inplace=True)\n",
    "    cshapes_lean = cshapes[['country_name','gwno']]\n",
    "\n",
    "    return(cshapes_lean)\n",
    "\n",
    "cshapes_lean = my_import_2()\n",
    "    \n",
    "def country_lookup(gwno):\n",
    "    if len(cshapes_lean[cshapes_lean['gwno'] == gwno]['country_name']) != 0:\n",
    "        country_name = cshapes_lean[cshapes_lean['gwno'] == gwno]['country_name'].iloc[0]\n",
    "        print(country_name)\n",
    "    else:\n",
    "        print('unknown gwno')\n",
    "        \n",
    "        \n",
    "def country_lookup_out(gwno):\n",
    "    \n",
    "    c_list = []\n",
    "    \n",
    "    if len(cshapes_lean[cshapes_lean['gwno'] == gwno]['country_name']) != 0:\n",
    "        country_name = cshapes_lean[cshapes_lean['gwno'] == gwno]['country_name'].iloc[0]\n",
    "        c_list.append(country_name)\n",
    "    else:\n",
    "        c_list.append('unknown gwno')\n",
    "        \n",
    "    return(c_list)"
   ]
  },
  {
   "cell_type": "code",
   "execution_count": 3,
   "metadata": {},
   "outputs": [
    {
     "name": "stdout",
     "output_type": "stream",
     "text": [
      "unknown gwno\n"
     ]
    }
   ],
   "source": [
    "country_lookup(1)"
   ]
  },
  {
   "cell_type": "code",
   "execution_count": 4,
   "metadata": {},
   "outputs": [
    {
     "name": "stdout",
     "output_type": "stream",
     "text": [
      "United States\n"
     ]
    }
   ],
   "source": [
    "country_lookup(2)"
   ]
  }
 ],
 "metadata": {
  "kernelspec": {
   "display_name": "Python 3",
   "language": "python",
   "name": "python3"
  },
  "language_info": {
   "codemirror_mode": {
    "name": "ipython",
    "version": 3
   },
   "file_extension": ".py",
   "mimetype": "text/x-python",
   "name": "python",
   "nbconvert_exporter": "python",
   "pygments_lexer": "ipython3",
   "version": "3.6.6"
  }
 },
 "nbformat": 4,
 "nbformat_minor": 2
}
