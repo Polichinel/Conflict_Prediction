{
 "cells": [
  {
   "cell_type": "markdown",
   "metadata": {},
   "source": [
    "Så først og fremmest få prio grid og UCDP merged og se hvad su så synes du mangler..."
   ]
  },
  {
   "cell_type": "code",
   "execution_count": 1,
   "metadata": {},
   "outputs": [],
   "source": [
    "import numpy as np\n",
    "import pandas as pd\n",
    "import geopandas as gpd\n",
    "import matplotlib.pyplot as plt\n",
    "import seaborn as sns\n",
    "\n",
    "import math\n",
    "import time"
   ]
  },
  {
   "cell_type": "markdown",
   "metadata": {},
   "source": [
    "Gelman siger (måske): divider dine continuerlige variabler med 2 std_d for at de kommer til at ligene dine katagoriske var mere.... (https://www.youtube.com/watch?v=Jb9eklfbDyg 16.30)"
   ]
  },
  {
   "cell_type": "code",
   "execution_count": 2,
   "metadata": {},
   "outputs": [],
   "source": [
    "def my_import():\n",
    "    \"\"\"Function for loading, handling and merging the data. Rigth now you don't use the prio gird thou..\"\"\"\n",
    "    t1 = time.time()\n",
    "    \n",
    "    # load data:\n",
    "    prio_grid = gpd.read_file(\"zip:///home/polichinel/Dropbox/KU/9.semester/friopgave/data/prio_grid/priogrid_cellshp.zip\")\n",
    "    prio_static = pd.read_csv(\"/home/polichinel/Dropbox/KU/9.semester/friopgave/data/prio_grid/static/PRIO-GRID Static Variables - 2018-08-21.csv\")\n",
    "    prio_yearly_interp = pd.read_csv(\"/home/polichinel/Dropbox/KU/9.semester/friopgave/data/prio_grid/yearly/PRIO_Yearly_interp.csv\")\n",
    "    prio_yearly = pd.read_csv(\"/home/polichinel/Dropbox/KU/9.semester/friopgave/data/prio_grid/yearly/PRIO-GRID Yearly Variables for 1946-2014 - 2018-08-21.csv\")\n",
    "    ucdp = pd.read_csv(\"/home/polichinel/Dropbox/KU/9.semester/friopgave/data/upsala/ged181.csv\")# the error is not importent as you do not use that feature \n",
    "    \n",
    "    \n",
    "    # Choosing relevant variables:\n",
    "    prio_grid_lean = prio_grid[['gid','geometry']]\n",
    "    prio_static_lean = prio_static[['gid','landarea','ttime_mean','mountains_mean','petroleum_s']]\n",
    "    prio_yearly_interp_lean = prio_yearly_interp[['gid','year','interp_pop_gpw_sum','interp_gcp_ppp','interp_urban_ih','interp_agri_ih','interp_forest_ih']]\n",
    "    prio_yearly_lean = prio_yearly[['gid','year','gwno','gwarea','bdist1','bdist2','bdist3','capdist','excluded','petroleum_y','nlights_calib_mean']] #bdist 3 er minimere nans\n",
    "    ucdp_lean = ucdp[['priogrid_gid','country_id','region','year','best']]\n",
    "\n",
    "    \n",
    "    # Choosing relevant years: \n",
    "    prio_yearly_interp_lean_1990 = prio_yearly_interp_lean[(prio_yearly_interp_lean['year'] >= 1990) & (prio_yearly_interp_lean['year'] <= 2010)]\n",
    "    prio_yearly_lean_1990 = prio_yearly_lean[(prio_yearly_lean['year'] >= 1990) & (prio_yearly_lean['year'] <= 2010)]\n",
    "    ucdp_lean_1990 = ucdp_lean[(ucdp_lean['year'] >= 1990) & (ucdp_lean['year'] <= 2010)]\n",
    "    \n",
    "    # Aggregating yearly fatalities:\n",
    "    ucdp_lean_1990_year_agg = ucdp_lean_1990.groupby(by=['priogrid_gid','country_id','year']).sum().reset_index() # det her virker.tror jeg\n",
    "    ucdp_lean_1990_year_agg.rename(columns={'priogrid_gid':'gid'}, inplace=True)\n",
    "    ucdp_lean_1990_year_agg.rename(columns={'country_id':'gwno'}, inplace=True)\n",
    "    \n",
    "    \n",
    "    # Merging\n",
    "    prio_yearly_lean_1990_all = pd.merge(prio_yearly_interp_lean_1990, prio_yearly_lean_1990, on = ['gid','year'])\n",
    "\n",
    "    prio_static_grid = prio_grid_lean.merge(prio_static_lean, on='gid', how='inner')\n",
    "    prio_sy_grid = prio_static_grid.merge(prio_yearly_lean_1990_all, on = 'gid', how='inner')\n",
    "    prio_sy_ucdp_grid = prio_sy_grid.merge(ucdp_lean_1990_year_agg, on = ['gid','year','gwno'], how='left')\n",
    "\n",
    "    \n",
    "    # Filling in cells with non-fatalities.\n",
    "    prio_sy_ucdp_grid['best'].fillna(value=0, inplace = True)\n",
    "    prio_sy_ucdp_grid['log_best'] = np.log(prio_sy_ucdp_grid['best']+1)\n",
    "    \n",
    "    # Managing petolium:\n",
    "    prio_sy_ucdp_grid['petroleum_y'] = prio_sy_ucdp_grid.sort_values('year').groupby('gid')['petroleum_y'].fillna(method = 'ffill').copy() # fint\n",
    "    prio_sy_ucdp_grid['petroleum_y'].fillna(0, inplace = True)\n",
    "    prio_sy_ucdp_grid['petroleum_s'].fillna(0, inplace = True)\n",
    "    \n",
    "    prio_sy_ucdp_grid['petroleum_full'] = np.maximum(prio_sy_ucdp_grid['petroleum_y'],prio_sy_ucdp_grid['petroleum_s'])\n",
    "    \n",
    "    prio_sy_ucdp_grid.drop('petroleum_y', axis=1, inplace=True)\n",
    "    prio_sy_ucdp_grid.drop('petroleum_s', axis=1, inplace=True)\n",
    "                                                        \n",
    "    # Managing bdist1 \n",
    "    #prio_sy_ucdp_grid['bdist1'].fillna(np.median(prio_sy_ucdp_grid['bdist1']), inplace = True) # kunne være fedt bare at ordne det i modellen.\n",
    "    \n",
    "    \n",
    "    print('seconds it took load and handle data: ' + str(time.time()-t1))\n",
    "    return(prio_sy_ucdp_grid)\n",
    "    \n",
    "    # Should you normelize the data... espec teh y 'best'"
   ]
  },
  {
   "cell_type": "code",
   "execution_count": 3,
   "metadata": {},
   "outputs": [
    {
     "name": "stderr",
     "output_type": "stream",
     "text": [
      "/home/polichinel/anaconda3/lib/python3.6/site-packages/IPython/core/interactiveshell.py:2802: DtypeWarning: Columns (9) have mixed types. Specify dtype option on import or set low_memory=False.\n",
      "  if self.run_code(code, result):\n"
     ]
    },
    {
     "name": "stdout",
     "output_type": "stream",
     "text": [
      "seconds it took load and handle data: 66.70944619178772\n"
     ]
    },
    {
     "data": {
      "text/plain": [
       "(1361178, 22)"
      ]
     },
     "execution_count": 3,
     "metadata": {},
     "output_type": "execute_result"
    }
   ],
   "source": [
    "df=my_import()\n",
    "df_s = df.sample(10000, random_state=123)\n",
    "\n",
    "# feature_list = ['landarea', 'ttime_mean', 'mountains_mean',\n",
    "#        'petroleum_s', 'year', 'interp_pop_gpw_sum', 'interp_gcp_ppp',\n",
    "#        'interp_urban_ih', 'interp_agri_ih', 'interp_forest_ih', 'gwno',\n",
    "#        'gwarea', 'bdist1', 'capdist', 'excluded', 'petroleum_y',\n",
    "#        'nlights_calib_mean', 'best']\n",
    "\n",
    "feature_list = ['landarea', 'ttime_mean', 'mountains_mean',\n",
    "       'petroleum_full', 'year', 'interp_pop_gpw_sum', 'interp_gcp_ppp',\n",
    "       'interp_urban_ih', 'interp_agri_ih', 'interp_forest_ih', 'gwno',\n",
    "       'gwarea','bdist1','bdist2', 'bdist3', 'capdist', 'excluded', 'nlights_calib_mean', 'best']\n",
    "\n",
    "df.shape\n"
   ]
  },
  {
   "cell_type": "code",
   "execution_count": 4,
   "metadata": {},
   "outputs": [
    {
     "name": "stdout",
     "output_type": "stream",
     "text": [
      "gid that is NA : 0.0%\n",
      "geometry that is NA : 0.0%\n",
      "landarea that is NA : 0.0%\n",
      "ttime_mean that is NA : 0.156%\n",
      "mountains_mean that is NA : 4.374%\n",
      "year that is NA : 0.0%\n",
      "interp_pop_gpw_sum that is NA : 0.0%\n",
      "interp_gcp_ppp that is NA : 26.817%\n",
      "interp_urban_ih that is NA : 7.509%\n",
      "interp_agri_ih that is NA : 7.509%\n",
      "interp_forest_ih that is NA : 7.509%\n",
      "gwno that is NA : 0.001%\n",
      "gwarea that is NA : 0.001%\n",
      "bdist1 that is NA : 7.024%\n",
      "bdist2 that is NA : 0.001%\n",
      "bdist3 that is NA : 0.001%\n",
      "capdist that is NA : 0.001%\n",
      "excluded that is NA : 20.131%\n",
      "nlights_calib_mean that is NA : 12.73%\n",
      "best that is NA : 0.0%\n",
      "log_best that is NA : 0.0%\n",
      "petroleum_full that is NA : 0.0%\n"
     ]
    }
   ],
   "source": [
    "def get_na(df=df):\n",
    "\n",
    "    na_list = []\n",
    "    \n",
    "    for i in df.columns:\n",
    "        proporiton_na = df[i].isna().sum()/len(df[i])\n",
    "        print(i + \" that is NA : \" + str(round(proporiton_na*100, 3)) + '%')\n",
    "        \n",
    "        \n",
    "        \n",
    "        if proporiton_na > 0.01:\n",
    "            na_list.append(i)\n",
    "        \n",
    "    return(na_list)\n",
    "\n",
    "na_list = get_na()"
   ]
  },
  {
   "cell_type": "code",
   "execution_count": 5,
   "metadata": {},
   "outputs": [],
   "source": [
    "# #uncomment to visualize all nans:\n",
    "\n",
    "# for y in np.sort(df['year'].unique()):    \n",
    "#     for f in na_list:\n",
    "#         #if df[f].isna().any():\n",
    "#         if df[str(f)].dtype != type(object):\n",
    "\n",
    "#             df[(df['year']==y) & (df[f].isna())].plot(column = f, figsize=(15, 15))\n",
    "#             plt.title(f + '-' + str(y) + '_nan_cells')\n",
    "#             plt.show()\n",
    "        "
   ]
  },
  {
   "cell_type": "code",
   "execution_count": 6,
   "metadata": {},
   "outputs": [
    {
     "name": "stdout",
     "output_type": "stream",
     "text": [
      "gid that is NA : 0.0%\n",
      "geometry that is NA : 0.0%\n",
      "landarea that is NA : 0.0%\n",
      "ttime_mean that is NA : 0.156%\n",
      "mountains_mean that is NA : 0.0%\n",
      "year that is NA : 0.0%\n",
      "interp_pop_gpw_sum that is NA : 0.0%\n",
      "interp_gcp_ppp that is NA : 26.817%\n",
      "interp_urban_ih that is NA : 0.0%\n",
      "interp_agri_ih that is NA : 0.0%\n",
      "interp_forest_ih that is NA : 0.0%\n",
      "gwno that is NA : 0.001%\n",
      "gwarea that is NA : 0.001%\n",
      "bdist1 that is NA : 7.024%\n",
      "bdist2 that is NA : 0.001%\n",
      "bdist3 that is NA : 0.001%\n",
      "capdist that is NA : 0.001%\n",
      "excluded that is NA : 20.131%\n",
      "nlights_calib_mean that is NA : 0.0%\n",
      "best that is NA : 0.0%\n",
      "log_best that is NA : 0.0%\n",
      "petroleum_full that is NA : 0.0%\n"
     ]
    }
   ],
   "source": [
    "def fill_missing_1(df=df):\n",
    "    \n",
    "    # First back-extrapolating light values from 1992 to 91 and 90.\n",
    "    \n",
    "    Light_years = [1990, 1991]# full missing years for 'nlights_calib_mean'.\n",
    "    missing_list = ['interp_urban_ih', 'interp_agri_ih', 'interp_forest_ih','mountains_mean','nlights_calib_mean']\n",
    "    \n",
    "    for y in Light_years:\n",
    "        df.loc[df['year'] == y, 'nlights_calib_mean'] = df[df['year'] == 1992]['nlights_calib_mean'].values\n",
    "\n",
    "\n",
    "    for f in missing_list:\n",
    "        df.loc[df[f] < 0 , f] = 0 # due to rounding errors in the interpolation, few values a negative (still practical zero.)\n",
    "    \n",
    "        df[f].fillna(df[f].min(), inplace = True) # minimun in this case being zero.\n",
    "\n",
    "fill_missing_1()\n",
    "na_list = get_na()"
   ]
  },
  {
   "cell_type": "code",
   "execution_count": 7,
   "metadata": {},
   "outputs": [],
   "source": [
    "# # uncomment to vizualize:\n",
    "\n",
    "# na_list = ['interp_gcp_ppp', 'bdist1', 'excluded']\n",
    "\n",
    "# for y in np.sort(df['year'].unique()):    \n",
    "#     for f in na_list:\n",
    "#         #if df[f].isna().any():\n",
    "#         if df[str(f)].dtype != type(object):\n",
    "\n",
    "#             df[(df['year']==y) & (df[f].isna())].plot(column = f, figsize=(15, 15))\n",
    "#             plt.title(f + '-' + str(y) + '_nan_cells')\n",
    "#             plt.show()"
   ]
  },
  {
   "cell_type": "code",
   "execution_count": 8,
   "metadata": {},
   "outputs": [
    {
     "name": "stdout",
     "output_type": "stream",
     "text": [
      "gid that is NA : 0.0%\n",
      "geometry that is NA : 0.0%\n",
      "landarea that is NA : 0.0%\n",
      "ttime_mean that is NA : 0.156%\n",
      "mountains_mean that is NA : 0.0%\n",
      "year that is NA : 0.0%\n",
      "interp_pop_gpw_sum that is NA : 0.0%\n",
      "interp_gcp_ppp that is NA : 2.058%\n",
      "interp_urban_ih that is NA : 0.0%\n",
      "interp_agri_ih that is NA : 0.0%\n",
      "interp_forest_ih that is NA : 0.0%\n",
      "gwno that is NA : 0.001%\n",
      "gwarea that is NA : 0.001%\n",
      "bdist1 that is NA : 0.0%\n",
      "bdist2 that is NA : 0.001%\n",
      "bdist3 that is NA : 0.001%\n",
      "capdist that is NA : 0.001%\n",
      "excluded that is NA : 0.0%\n",
      "nlights_calib_mean that is NA : 0.0%\n",
      "best that is NA : 0.0%\n",
      "log_best that is NA : 0.0%\n",
      "petroleum_full that is NA : 0.0%\n"
     ]
    }
   ],
   "source": [
    "def fill_missing_2(df=df):\n",
    "    \n",
    "    # first bdist1:\n",
    "    df['bdist1'].fillna(df['bdist1'].median(), inplace = True) # median and not mean, since it is is skewed - ofc should be corss-validated. \n",
    "    \n",
    "    # Then, correct the interpolation:\n",
    "    df.loc[df['interp_gcp_ppp'] < 0 , 'interp_gcp_ppp'] = 0 # due to rounding errors in the interpolation, few values a negative (still practical zero.)\n",
    "    \n",
    "    # fill forward:\n",
    "    df['interp_gcp_ppp'] = df.sort_values('year').groupby('gid')['interp_gcp_ppp'].fillna(method = 'ffill')\n",
    "    df['interp_gcp_ppp'] = df.sort_values('year').groupby('gid')['interp_gcp_ppp'].fillna(method = 'bfill')\n",
    "\n",
    "    \n",
    "    # Excluded = min\n",
    "    df['excluded'].fillna(df['excluded'].min(), inplace = True) # tjek lige i codebogen om det her er khoser\n",
    "    \n",
    "    \n",
    "fill_missing_2()\n",
    "na_list = get_na()"
   ]
  },
  {
   "cell_type": "code",
   "execution_count": 9,
   "metadata": {},
   "outputs": [],
   "source": [
    "# # uncomment to visualize:\n",
    "\n",
    "# for y in np.sort(df['year'].unique()):    \n",
    "\n",
    "#     if df[str('interp_gcp_ppp')].dtype != type(object):\n",
    "\n",
    "#         df[(df['year']==y) & (df['interp_gcp_ppp'].isna())].plot(column = 'interp_gcp_ppp', figsize=(15, 15))\n",
    "#         plt.title('interp_gcp_ppp' + '-' + str(y) + '_nan_cells')\n",
    "#         plt.show()"
   ]
  },
  {
   "cell_type": "code",
   "execution_count": null,
   "metadata": {},
   "outputs": [],
   "source": []
  },
  {
   "cell_type": "code",
   "execution_count": null,
   "metadata": {},
   "outputs": [],
   "source": []
  },
  {
   "cell_type": "code",
   "execution_count": null,
   "metadata": {},
   "outputs": [],
   "source": []
  }
 ],
 "metadata": {
  "kernelspec": {
   "display_name": "Python 3",
   "language": "python",
   "name": "python3"
  },
  "language_info": {
   "codemirror_mode": {
    "name": "ipython",
    "version": 3
   },
   "file_extension": ".py",
   "mimetype": "text/x-python",
   "name": "python",
   "nbconvert_exporter": "python",
   "pygments_lexer": "ipython3",
   "version": "3.6.6"
  }
 },
 "nbformat": 4,
 "nbformat_minor": 2
}
